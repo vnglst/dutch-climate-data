{
 "cells": [
  {
   "cell_type": "code",
   "execution_count": 15,
   "metadata": {},
   "outputs": [
    {
     "name": "stdout",
     "output_type": "stream",
     "text": [
      "                           date    value\n",
      "0    1993-01-05 04:58:03.936000 -0.00022\n",
      "1    1993-01-15 02:56:30.912003 -0.00124\n",
      "2    1993-01-25 00:54:57.887998 -0.00108\n",
      "3    1993-02-03 22:53:56.399997 -0.00111\n",
      "4    1993-02-13 20:52:23.375999 -0.00019\n",
      "...                         ...      ...\n",
      "1119 2023-06-02 17:31:32.304001  0.10347\n",
      "1120 2023-06-12 15:29:59.279996  0.10409\n",
      "1121 2023-06-22 13:28:26.255999  0.10457\n",
      "1122 2023-07-02 11:26:53.232001  0.10491\n",
      "1123 2023-07-12 09:25:20.207997  0.10514\n",
      "\n",
      "[1124 rows x 2 columns]\n"
     ]
    }
   ],
   "source": [
    "import pandas as pd\n",
    "from datetime import datetime, timedelta\n",
    "\n",
    "# Define column names\n",
    "col_names = ['col1', 'col2', 'date', 'col4', 'col5', 'col6', 'col7', 'col8', 'col9', 'col10', 'value', 'col12', 'col13', 'col14']\n",
    "\n",
    "# Source of data NASA\n",
    "# https://climate.nasa.gov/vital-signs/sea-level/\n",
    "\n",
    "# Read the file into a DataFrame, skipping the first 50 lines\n",
    "df = pd.read_csv('GMSL_TPJAOS_5.1_199209_202307.txt', delim_whitespace=True, skiprows=50, names=col_names)\n",
    "\n",
    "# Function to parse fractional year\n",
    "def parse_fractional_year(fractional_year):\n",
    "    year = int(fractional_year)\n",
    "    remainder = fractional_year - year\n",
    "    base_date = datetime(year, 1, 1)\n",
    "    result_date = base_date + timedelta(seconds=(base_date.replace(year=base_date.year + 1) - base_date).total_seconds() * remainder)\n",
    "    return result_date\n",
    "\n",
    "# Apply the function to the 'date' column\n",
    "df['date'] = df['date'].apply(parse_fractional_year)\n",
    "\n",
    "# Parse 'value' as a float\n",
    "# Add value at 1992-01-01 to each value\n",
    "# Divide each value by 1000 to get rise in meters\n",
    "df['value'] = df['value'].astype(float).apply(lambda x: (x + 38.56) / 1000 )\n",
    "\n",
    "# Keep only columns 'date' and 'value'\n",
    "df = df[['date', 'value']]\n",
    "\n",
    "print(df)"
   ]
  },
  {
   "cell_type": "code",
   "execution_count": 16,
   "metadata": {},
   "outputs": [
    {
     "name": "stdout",
     "output_type": "stream",
     "text": [
      "    year     value\n",
      "0   1993  0.004032\n",
      "1   1994  0.008008\n",
      "2   1995  0.011184\n",
      "3   1996  0.013254\n",
      "4   1997  0.017289\n",
      "5   1998  0.014912\n",
      "6   1999  0.018524\n",
      "7   2000  0.021773\n",
      "8   2001  0.027346\n",
      "9   2002  0.031483\n",
      "10  2003  0.034851\n",
      "11  2004  0.036811\n",
      "12  2005  0.041605\n",
      "13  2006  0.042957\n",
      "14  2007  0.043664\n",
      "15  2008  0.045843\n",
      "16  2009  0.050947\n",
      "17  2010  0.052251\n",
      "18  2011  0.051597\n",
      "19  2012  0.062485\n",
      "20  2013  0.064906\n",
      "21  2014  0.068561\n",
      "22  2015  0.079547\n",
      "23  2016  0.081713\n",
      "24  2017  0.082859\n",
      "25  2018  0.087085\n",
      "26  2019  0.094070\n",
      "27  2020  0.095107\n",
      "28  2021  0.099425\n",
      "29  2022  0.101945\n",
      "30  2023  0.103037\n"
     ]
    }
   ],
   "source": [
    "# Create a new column 'year' for grouping\n",
    "df['year'] = df['date'].dt.year.astype(str)\n",
    "\n",
    "# Group by 'year' and calculate mean of 'value'\n",
    "df_mean = df.groupby('year')['value'].mean().reset_index()\n",
    "\n",
    "print(df_mean)"
   ]
  },
  {
   "cell_type": "code",
   "execution_count": 17,
   "metadata": {},
   "outputs": [
    {
     "name": "stdout",
     "output_type": "stream",
     "text": [
      "['1993', '1994', '1995', '1996', '1997', '1998', '1999', '2000', '2001', '2002', '2003', '2004', '2005', '2006', '2007', '2008', '2009', '2010', '2011', '2012', '2013', '2014', '2015', '2016', '2017', '2018', '2019', '2020', '2021', '2022', '2023']\n",
      "[0.004031891891891895, 0.00800756756756757, 0.011183513513513516, 0.013254444444444447, 0.017289189189189192, 0.014911621621621624, 0.018523783783783786, 0.021772702702702703, 0.027346216216216218, 0.031483333333333335, 0.03485108108108108, 0.036810810810810814, 0.0416045945945946, 0.04295694444444445, 0.04366351351351352, 0.04584277777777778, 0.0509472972972973, 0.052250810810810816, 0.05159675675675676, 0.062485405405405404, 0.06490648648648649, 0.06856083333333333, 0.0795472972972973, 0.08171324324324325, 0.08285891891891892, 0.08708486486486486, 0.09407027027027026, 0.09510666666666667, 0.09942513513513514, 0.1019454054054054, 0.103037]\n"
     ]
    }
   ],
   "source": [
    "# Convert DataFrame to list of lists\n",
    "data_list = df_mean.values.tolist()\n",
    "\n",
    "# Split data into x and y\n",
    "x_values = [item[0] for item in data_list]\n",
    "y_values = [item[1] for item in data_list]\n",
    "\n",
    "print(x_values)\n",
    "print(y_values)"
   ]
  },
  {
   "cell_type": "code",
   "execution_count": 18,
   "metadata": {},
   "outputs": [],
   "source": [
    "import datetime\n",
    "\n",
    "last_year = int(x_values[-1])\n",
    "last_value = y_values[-1]\n",
    "\n",
    "data = {\n",
    "   'timestamp': datetime.datetime.now().isoformat(),\n",
    "   'sealevels': y_values, \n",
    "   'last_sealevel': last_value,\n",
    "   'years': x_values,\n",
    "   'forecast_years': [str(year) for year in range(last_year+1, 2101)],\n",
    "   # Source: https://sealevel.nasa.gov/ipcc-ar6-sea-level-projection-tool?psmsl_id=32&data_layer=scenario&boxinfo=true\n",
    "   'best_case': 0.42,\n",
    "   'worst_case': 0.8\n",
    "}"
   ]
  },
  {
   "cell_type": "code",
   "execution_count": 19,
   "metadata": {},
   "outputs": [],
   "source": [
    "import json\n",
    "\n",
    "with open('../data/sealevels.json', 'w', encoding='utf-8') as f:\n",
    "    json.dump(data, f, indent=2, allow_nan=False)\n",
    "        "
   ]
  }
 ],
 "metadata": {
  "kernelspec": {
   "display_name": "dutch-climate-data-T5WiGDch-py3.10",
   "language": "python",
   "name": "python3"
  },
  "language_info": {
   "codemirror_mode": {
    "name": "ipython",
    "version": 3
   },
   "file_extension": ".py",
   "mimetype": "text/x-python",
   "name": "python",
   "nbconvert_exporter": "python",
   "pygments_lexer": "ipython3",
   "version": "3.10.6"
  }
 },
 "nbformat": 4,
 "nbformat_minor": 2
}
