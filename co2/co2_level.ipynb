{
 "cells": [
  {
   "cell_type": "code",
   "execution_count": 26,
   "metadata": {},
   "outputs": [
    {
     "name": "stdout",
     "output_type": "stream",
     "text": [
      "    year    mean   unc\n",
      "0   1971  326.32  0.12\n",
      "1   1972  327.46  0.12\n",
      "2   1973  329.68  0.12\n",
      "3   1974  330.19  0.12\n",
      "4   1975  331.13  0.12\n",
      "5   1976  332.03  0.12\n",
      "6   1977  333.84  0.12\n",
      "7   1978  335.41  0.12\n",
      "8   1979  336.84  0.12\n",
      "9   1980  338.76  0.12\n",
      "10  1981  340.12  0.12\n",
      "11  1982  341.48  0.12\n",
      "12  1983  343.15  0.12\n",
      "13  1984  344.87  0.12\n",
      "14  1985  346.35  0.12\n",
      "15  1986  347.61  0.12\n",
      "16  1987  349.31  0.12\n",
      "17  1988  351.69  0.12\n",
      "18  1989  353.20  0.12\n",
      "19  1990  354.45  0.12\n",
      "20  1991  355.70  0.12\n",
      "21  1992  356.54  0.12\n",
      "22  1993  357.21  0.12\n",
      "23  1994  358.96  0.12\n",
      "24  1995  360.97  0.12\n",
      "25  1996  362.74  0.12\n",
      "26  1997  363.88  0.12\n",
      "27  1998  366.84  0.12\n",
      "28  1999  368.54  0.12\n",
      "29  2000  369.71  0.12\n",
      "30  2001  371.32  0.12\n",
      "31  2002  373.45  0.12\n",
      "32  2003  375.98  0.12\n",
      "33  2004  377.70  0.12\n",
      "34  2005  379.98  0.12\n",
      "35  2006  382.09  0.12\n",
      "36  2007  384.02  0.12\n",
      "37  2008  385.83  0.12\n",
      "38  2009  387.64  0.12\n",
      "39  2010  390.10  0.12\n",
      "40  2011  391.85  0.12\n",
      "41  2012  394.06  0.12\n",
      "42  2013  396.74  0.12\n",
      "43  2014  398.81  0.12\n",
      "44  2015  401.01  0.12\n",
      "45  2016  404.41  0.12\n",
      "46  2017  406.76  0.12\n",
      "47  2018  408.72  0.12\n",
      "48  2019  411.65  0.12\n",
      "49  2020  414.21  0.12\n",
      "50  2021  416.41  0.12\n",
      "51  2022  418.53  0.12\n",
      "52  2023  421.08  0.12\n"
     ]
    }
   ],
   "source": [
    "# https://gml.noaa.gov/ccgg/trends/data.html\n",
    "# https://gml.noaa.gov/webdata/ccgg/trends/co2/co2_annmean_mlo.txt\n",
    "\n",
    "import pandas as pd\n",
    "\n",
    "col_names = ['year', 'mean', 'unc']\n",
    "\n",
    "df = pd.read_csv('co2_annmean_mlo.txt', sep='\\s+', names=col_names, skiprows=57)\n",
    "\n",
    "print(df)\n",
    "\n",
    "\n",
    "\n"
   ]
  },
  {
   "cell_type": "code",
   "execution_count": 27,
   "metadata": {},
   "outputs": [
    {
     "name": "stdout",
     "output_type": "stream",
     "text": [
      "['1971', '1972', '1973', '1974', '1975', '1976', '1977', '1978', '1979', '1980', '1981', '1982', '1983', '1984', '1985', '1986', '1987', '1988', '1989', '1990', '1991', '1992', '1993', '1994', '1995', '1996', '1997', '1998', '1999', '2000', '2001', '2002', '2003', '2004', '2005', '2006', '2007', '2008', '2009', '2010', '2011', '2012', '2013', '2014', '2015', '2016', '2017', '2018', '2019', '2020', '2021', '2022', '2023']\n",
      "[326.32, 327.46, 329.68, 330.19, 331.13, 332.03, 333.84, 335.41, 336.84, 338.76, 340.12, 341.48, 343.15, 344.87, 346.35, 347.61, 349.31, 351.69, 353.2, 354.45, 355.7, 356.54, 357.21, 358.96, 360.97, 362.74, 363.88, 366.84, 368.54, 369.71, 371.32, 373.45, 375.98, 377.7, 379.98, 382.09, 384.02, 385.83, 387.64, 390.1, 391.85, 394.06, 396.74, 398.81, 401.01, 404.41, 406.76, 408.72, 411.65, 414.21, 416.41, 418.53, 421.08]\n"
     ]
    }
   ],
   "source": [
    "df['year'] = df['year'].astype(str)\n",
    "\n",
    "years = df['year'].values.tolist()\n",
    "means = df['mean'].values.tolist()\n",
    "\n",
    "print(years)\n",
    "print(means)"
   ]
  },
  {
   "cell_type": "code",
   "execution_count": 28,
   "metadata": {},
   "outputs": [],
   "source": [
    "import datetime\n",
    "\n",
    "last_year = int(years[-1])\n",
    "\n",
    "data = {\n",
    "   'timestamp': datetime.datetime.now().isoformat(),\n",
    "   'last_co2_level': means[-1],\n",
    "    # https://gmd.copernicus.org/preprints/gmd-2019-222/gmd-2019-222.pdf\n",
    "   'worst_case': 1135\n",
    "   'best_case': 393.00,\n",
    "   'co2_levels': means, \n",
    "   'years': years,\n",
    "   'forecast_years': years + [str(year) for year in range(last_year+1, 2101)],\n",
    "}"
   ]
  },
  {
   "cell_type": "code",
   "execution_count": 29,
   "metadata": {},
   "outputs": [],
   "source": [
    "import json\n",
    "\n",
    "with open('../data/co2_levels.json', 'w', encoding='utf-8') as f:\n",
    "    json.dump(data, f, indent=2, allow_nan=False)"
   ]
  }
 ],
 "metadata": {
  "kernelspec": {
   "display_name": "dutch-climate-data-T5WiGDch-py3.10",
   "language": "python",
   "name": "python3"
  },
  "language_info": {
   "codemirror_mode": {
    "name": "ipython",
    "version": 3
   },
   "file_extension": ".py",
   "mimetype": "text/x-python",
   "name": "python",
   "nbconvert_exporter": "python",
   "pygments_lexer": "ipython3",
   "version": "3.10.6"
  }
 },
 "nbformat": 4,
 "nbformat_minor": 2
}
